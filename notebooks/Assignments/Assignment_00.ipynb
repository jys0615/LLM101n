{
 "cells": [
  {
   "cell_type": "markdown",
   "id": "title-cell",
   "metadata": {},
   "source": [
    "# Assignment 0: Setting Up Your PyTorch Environment\n",
    "\n",
    "In this assignment, you will set up your development environment to run PyTorch.\n",
    "\n",
    "You will need to:\n",
    "\n",
    "1. **Install WSL2** (for Windows users)\n",
    "2. **Install Anaconda**\n",
    "3. **Install PyTorch**\n",
    "4. **Install other necessary libraries**\n",
    "4. **Fork the repository**"
   ]
  },
  {
   "cell_type": "markdown",
   "id": "step-1",
   "metadata": {},
   "source": [
    "## Step 1: Install WSL2\n",
    "\n",
    "If you are using **Windows**, enable the Windows Subsystem for Linux (WSL2) to create a Linux-based development environment.\n",
    "\n",
    "Skip this step if you are using macOS or Linux.\n",
    "\n",
    "**Instructions:**\n",
    "\n",
    "1. Open the [Microsoft Store](https://apps.microsoft.com) and install **Ubuntu 24.04 LTS**.\n",
    "2. Launch Ubuntu and set up your username and password.\n",
    "\n",
    "    In Windows terminal, run:\n",
    "    ```powershell\n",
    "    wsl\n",
    "    ```\n",
    "   In Ubuntu terminal, set up your username and password.\n",
    "\n",
    "3. To verify you are using WSL2, run in Windows terminal:\n",
    "    ```powershell\n",
    "    wsl -l -v\n",
    "    ```"
   ]
  },
  {
   "cell_type": "markdown",
   "id": "f3191f66a3d87b8c",
   "metadata": {},
   "source": [
    "### Linux basic commands\n",
    "\n",
    "If you are new to Linux, here are some basic commands to get you started:\n",
    "\n",
    "- `ls`: List files and directories.\n",
    "- `cd <directory>`: Change directory.\n",
    "- `mkdir <directory>`: Create a new directory.\n",
    "- `rm <file>`: Remove a file.\n",
    "- `rm -r <directory>`: Remove a directory and its contents.\n",
    "- `sudo <command>`: Run a command with superuser privileges."
   ]
  },
  {
   "cell_type": "markdown",
   "id": "step-2",
   "metadata": {},
   "source": [
    "## Step 2: Install Anaconda\n",
    "\n",
    "If you are using **macOS**, install it by visiting the [Anaconda website](https://www.anaconda.com/download).\n",
    "Using Homebrew is not recommended.\n",
    "\n",
    "The following instructions are for **Linux** & **WSL** users.\n",
    "\n",
    "**Instructions:**\n",
    "\n",
    "1. Visit the [Anaconda archive](https://repo.anaconda.com/archive/) and locate the latest installer for your system.\n",
    "    - **Example for Intel/AMD on Linux:** `Anaconda3-2024.10-1-Linux-x86_64.sh`\n",
    "\n",
    "2. Open Linux terminal and download the installer using `wget` (replace `<FILENAME>` with the correct file name):\n",
    "    ```bash\n",
    "    wget https://repo.anaconda.com/archive/<FILENAME>\n",
    "    ```\n",
    "\n",
    "    For example:\n",
    "    ```bash\n",
    "    wget https://repo.anaconda.com/archive/Anaconda3-2024.10-1-Linux-x86_64.sh\n",
    "    ```\n",
    "\n",
    "3. Locate the file and run the installer:\n",
    "    ```bash\n",
    "    bash path_to_dir/Anaconda3-2024.10-1-Linux-x86_64.sh\n",
    "    ```\n",
    "    Follow the prompts and accept the license agreement. When asked, choose **yes** to initialize Conda.\n",
    "\n",
    "4. Restart your terminal and verify the installation by running:\n",
    "    ```bash\n",
    "    conda --version\n",
    "    ```\n",
    "\n",
    "5. Create a virtual environment for the course:\n",
    "    ```bash\n",
    "    conda create --name LLM101n python=3.12\n",
    "    ```\n",
    "\n",
    "6. Activate the virtual environment:\n",
    "    ```bash\n",
    "    conda activate LLM101n\n",
    "    ```\n",
    "7. Install Jupyter Notebook:\n",
    "    ```bash\n",
    "    conda install jupyter\n",
    "    ```"
   ]
  },
  {
   "cell_type": "markdown",
   "id": "1b8bff1886088c07",
   "metadata": {},
   "source": [
    "### Conda basic commands\n",
    "\n",
    "Here are some basic Conda commands to get you started:\n",
    "\n",
    "- `conda env list`: List all Conda environments.\n",
    "- `conda create --name <env_name> python=<version>`: Create a new Conda environment.\n",
    "- `conda remove --name <env_name> --all`: Remove a Conda environment.\n",
    "- `conda activate <env_name>`: Activate a Conda environment.\n",
    "- `conda deactivate`: Deactivate the current Conda environment."
   ]
  },
  {
   "cell_type": "markdown",
   "id": "step-3",
   "metadata": {},
   "source": [
    "## Step 3: Install PyTorch\n",
    "\n",
    "PyTorch is a popular deep learning library that provides GPU acceleration and automatic differentiation. We will use PyTorch for all assignments and projects in this course.\n",
    "\n",
    "**Instructions:**\n",
    "\n",
    "1. **Activate your virtual environment:**\n",
    "    ```bash\n",
    "    conda activate LLM101\n",
    "    ```\n",
    "\n",
    "2. **Install PyTorch:**\n",
    "    Visit the [PyTorch Website](https://pytorch.org) to select the right command for your system. For example, Linux with CUDA 12.6, run:\n",
    "    ```bash\n",
    "    pip3 install torch torchvision torchaudio --index-url https://download.pytorch.org/whl/cu126\n",
    "    ```\n",
    "\n",
    "3. **Verify the installation** by running the following code in a new cell (see next cell)."
   ]
  },
  {
   "cell_type": "code",
   "execution_count": 1,
   "id": "verify-pytorch",
   "metadata": {
    "jupyter": {
     "is_executing": true
    }
   },
   "outputs": [
    {
     "name": "stdout",
     "output_type": "stream",
     "text": [
      "PyTorch version: 2.6.0\n",
      "Running on mps\n"
     ]
    }
   ],
   "source": [
    "# Verify PyTorch installation\n",
    "import torch\n",
    "\n",
    "print('PyTorch version:', torch.__version__)\n",
    "\n",
    "if torch.cuda.is_available():\n",
    "    device = torch.device('cuda')\n",
    "    num_gpu = torch.cuda.device_count()\n",
    "    print(f\"Running on {num_gpu} GPU(s): {torch.cuda.get_device_name(0)}\")\n",
    "elif torch.backends.mps.is_available():\n",
    "    device = torch.device('mps')\n",
    "    print(f\"Running on {device}\")\n",
    "else:\n",
    "    device = torch.device('cpu')\n",
    "    print(f\"Running on {device}\")"
   ]
  },
  {
   "cell_type": "markdown",
   "id": "a0e3ddad74910603",
   "metadata": {},
   "source": [
    "## Step 4: Install Other Necessary Libraries\n",
    "\n",
    "**Instructions:**\n",
    "\n",
    "Run the following cells"
   ]
  },
  {
   "cell_type": "code",
   "execution_count": 2,
   "id": "d6aac2afe89d3d7a",
   "metadata": {},
   "outputs": [
    {
     "name": "stdout",
     "output_type": "stream",
     "text": [
      "Requirement already satisfied: matplotlib in /opt/anaconda3/envs/LLM101n/lib/python3.12/site-packages (3.10.1)\n",
      "Requirement already satisfied: tqdm in /opt/anaconda3/envs/LLM101n/lib/python3.12/site-packages (4.67.1)\n",
      "Requirement already satisfied: wandb in /opt/anaconda3/envs/LLM101n/lib/python3.12/site-packages (0.19.8)\n",
      "Requirement already satisfied: scikit-learn in /opt/anaconda3/envs/LLM101n/lib/python3.12/site-packages (1.6.1)\n",
      "Requirement already satisfied: graphviz in /opt/anaconda3/envs/LLM101n/lib/python3.12/site-packages (0.20.3)\n",
      "Requirement already satisfied: contourpy>=1.0.1 in /opt/anaconda3/envs/LLM101n/lib/python3.12/site-packages (from matplotlib) (1.3.1)\n",
      "Requirement already satisfied: cycler>=0.10 in /opt/anaconda3/envs/LLM101n/lib/python3.12/site-packages (from matplotlib) (0.12.1)\n",
      "Requirement already satisfied: fonttools>=4.22.0 in /opt/anaconda3/envs/LLM101n/lib/python3.12/site-packages (from matplotlib) (4.56.0)\n",
      "Requirement already satisfied: kiwisolver>=1.3.1 in /opt/anaconda3/envs/LLM101n/lib/python3.12/site-packages (from matplotlib) (1.4.8)\n",
      "Requirement already satisfied: numpy>=1.23 in /opt/anaconda3/envs/LLM101n/lib/python3.12/site-packages (from matplotlib) (2.2.3)\n",
      "Requirement already satisfied: packaging>=20.0 in /opt/anaconda3/envs/LLM101n/lib/python3.12/site-packages (from matplotlib) (24.2)\n",
      "Requirement already satisfied: pillow>=8 in /opt/anaconda3/envs/LLM101n/lib/python3.12/site-packages (from matplotlib) (11.1.0)\n",
      "Requirement already satisfied: pyparsing>=2.3.1 in /opt/anaconda3/envs/LLM101n/lib/python3.12/site-packages (from matplotlib) (3.2.1)\n",
      "Requirement already satisfied: python-dateutil>=2.7 in /opt/anaconda3/envs/LLM101n/lib/python3.12/site-packages (from matplotlib) (2.9.0.post0)\n",
      "Requirement already satisfied: click!=8.0.0,>=7.1 in /opt/anaconda3/envs/LLM101n/lib/python3.12/site-packages (from wandb) (8.1.8)\n",
      "Requirement already satisfied: docker-pycreds>=0.4.0 in /opt/anaconda3/envs/LLM101n/lib/python3.12/site-packages (from wandb) (0.4.0)\n",
      "Requirement already satisfied: gitpython!=3.1.29,>=1.0.0 in /opt/anaconda3/envs/LLM101n/lib/python3.12/site-packages (from wandb) (3.1.44)\n",
      "Requirement already satisfied: platformdirs in /opt/anaconda3/envs/LLM101n/lib/python3.12/site-packages (from wandb) (3.10.0)\n",
      "Requirement already satisfied: protobuf!=4.21.0,!=5.28.0,<6,>=3.19.0 in /opt/anaconda3/envs/LLM101n/lib/python3.12/site-packages (from wandb) (5.29.3)\n",
      "Requirement already satisfied: psutil>=5.0.0 in /opt/anaconda3/envs/LLM101n/lib/python3.12/site-packages (from wandb) (5.9.0)\n",
      "Requirement already satisfied: pydantic<3,>=2.6 in /opt/anaconda3/envs/LLM101n/lib/python3.12/site-packages (from wandb) (2.10.6)\n",
      "Requirement already satisfied: pyyaml in /opt/anaconda3/envs/LLM101n/lib/python3.12/site-packages (from wandb) (6.0.2)\n",
      "Requirement already satisfied: requests<3,>=2.0.0 in /opt/anaconda3/envs/LLM101n/lib/python3.12/site-packages (from wandb) (2.32.3)\n",
      "Requirement already satisfied: sentry-sdk>=2.0.0 in /opt/anaconda3/envs/LLM101n/lib/python3.12/site-packages (from wandb) (2.22.0)\n",
      "Requirement already satisfied: setproctitle in /opt/anaconda3/envs/LLM101n/lib/python3.12/site-packages (from wandb) (1.3.5)\n",
      "Requirement already satisfied: setuptools in /opt/anaconda3/envs/LLM101n/lib/python3.12/site-packages (from wandb) (75.8.0)\n",
      "Requirement already satisfied: scipy>=1.6.0 in /opt/anaconda3/envs/LLM101n/lib/python3.12/site-packages (from scikit-learn) (1.15.2)\n",
      "Requirement already satisfied: joblib>=1.2.0 in /opt/anaconda3/envs/LLM101n/lib/python3.12/site-packages (from scikit-learn) (1.4.2)\n",
      "Requirement already satisfied: threadpoolctl>=3.1.0 in /opt/anaconda3/envs/LLM101n/lib/python3.12/site-packages (from scikit-learn) (3.5.0)\n",
      "Requirement already satisfied: six>=1.4.0 in /opt/anaconda3/envs/LLM101n/lib/python3.12/site-packages (from docker-pycreds>=0.4.0->wandb) (1.16.0)\n",
      "Requirement already satisfied: gitdb<5,>=4.0.1 in /opt/anaconda3/envs/LLM101n/lib/python3.12/site-packages (from gitpython!=3.1.29,>=1.0.0->wandb) (4.0.12)\n",
      "Requirement already satisfied: annotated-types>=0.6.0 in /opt/anaconda3/envs/LLM101n/lib/python3.12/site-packages (from pydantic<3,>=2.6->wandb) (0.7.0)\n",
      "Requirement already satisfied: pydantic-core==2.27.2 in /opt/anaconda3/envs/LLM101n/lib/python3.12/site-packages (from pydantic<3,>=2.6->wandb) (2.27.2)\n",
      "Requirement already satisfied: typing-extensions>=4.12.2 in /opt/anaconda3/envs/LLM101n/lib/python3.12/site-packages (from pydantic<3,>=2.6->wandb) (4.12.2)\n",
      "Requirement already satisfied: charset-normalizer<4,>=2 in /opt/anaconda3/envs/LLM101n/lib/python3.12/site-packages (from requests<3,>=2.0.0->wandb) (3.3.2)\n",
      "Requirement already satisfied: idna<4,>=2.5 in /opt/anaconda3/envs/LLM101n/lib/python3.12/site-packages (from requests<3,>=2.0.0->wandb) (3.7)\n",
      "Requirement already satisfied: urllib3<3,>=1.21.1 in /opt/anaconda3/envs/LLM101n/lib/python3.12/site-packages (from requests<3,>=2.0.0->wandb) (2.3.0)\n",
      "Requirement already satisfied: certifi>=2017.4.17 in /opt/anaconda3/envs/LLM101n/lib/python3.12/site-packages (from requests<3,>=2.0.0->wandb) (2025.1.31)\n",
      "Requirement already satisfied: smmap<6,>=3.0.1 in /opt/anaconda3/envs/LLM101n/lib/python3.12/site-packages (from gitdb<5,>=4.0.1->gitpython!=3.1.29,>=1.0.0->wandb) (5.0.2)\n"
     ]
    }
   ],
   "source": [
    "# Install libraries\n",
    "!pip install matplotlib tqdm wandb scikit-learn graphviz"
   ]
  },
  {
   "cell_type": "code",
   "execution_count": 3,
   "id": "5781d345f5dd9720",
   "metadata": {
    "ExecuteTime": {
     "end_time": "2025-02-23T07:33:49.370476Z",
     "start_time": "2025-02-23T07:33:48.293497Z"
    }
   },
   "outputs": [],
   "source": [
    "# Verify the installation\n",
    "import matplotlib\n",
    "import tqdm\n",
    "import wandb\n",
    "import graphviz"
   ]
  },
  {
   "cell_type": "code",
   "execution_count": 4,
   "id": "e3775d81753e53e6",
   "metadata": {},
   "outputs": [],
   "source": [
    "# Stupid bug for grahpviz... If import fails for graphviz, run the following command\n",
    "# Uncomment the following line. Install using conda\n",
    "#!conda install graphviz"
   ]
  },
  {
   "cell_type": "code",
   "execution_count": 5,
   "id": "f5810166688558d",
   "metadata": {},
   "outputs": [],
   "source": [
    "# Verify the installation\n",
    "import graphviz"
   ]
  },
  {
   "cell_type": "markdown",
   "id": "step-4",
   "metadata": {},
   "source": [
    "## Step 5: Fork the Repository\n",
    "\n",
    "For version control and assignment submission, you need to fork the course repository on GitHub and create a new branch for your work.\n",
    "\n",
    "New to GitHub? [GitHub Guide](https://docs.github.com/get-started/start-your-journey/hello-world)\n",
    "\n",
    "Don't know what fork is? [GitHub Fork](https://docs.github.com/get-started/quickstart/fork-a-repo)\n",
    "\n",
    "**Instructions:**\n",
    "\n",
    "1. **Fork the Repository:**\n",
    "   - Go to the course repository on GitHub.\n",
    "   - Click the **Fork** button in the upper-right corner to create a copy of the repository under your GitHub account.\n",
    "\n",
    "2. **Clone Your Fork Locally:**\n",
    "   - Open your terminal and run (replace `<your-username>` and `<repository-name>` with the appropriate values)\n",
    "     ```bash\n",
    "     git clone https://github.com/<your-username>/<repository-name>.git\n",
    "     ```\n",
    "\n",
    "3. **Confirm:**\n",
    "   - Visit your fork on GitHub to ensure the new branch is available.\n",
    "\n",
    "**Note:** Do not create pull requests to the main repository."
   ]
  },
  {
   "cell_type": "markdown",
   "id": "congrats",
   "metadata": {},
   "source": [
    "## Congratulations! 🎉\n",
    "\n",
    "You have successfully set up your PyTorch environment and completed the assignment setup. Happy coding!"
   ]
  }
 ],
 "metadata": {
  "kernelspec": {
   "display_name": "Python 3",
   "language": "python",
   "name": "python3"
  },
  "language_info": {
   "codemirror_mode": {
    "name": "ipython",
    "version": 3
   },
   "file_extension": ".py",
   "mimetype": "text/x-python",
   "name": "python",
   "nbconvert_exporter": "python",
   "pygments_lexer": "ipython3",
   "version": "3.12.9"
  }
 },
 "nbformat": 4,
 "nbformat_minor": 5
}
